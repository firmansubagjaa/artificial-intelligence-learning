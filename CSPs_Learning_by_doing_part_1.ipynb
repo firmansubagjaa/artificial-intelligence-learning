{
  "nbformat": 4,
  "nbformat_minor": 0,
  "metadata": {
    "colab": {
      "provenance": [],
      "authorship_tag": "ABX9TyOpY38eyJAlpNfp5A0SogdP",
      "include_colab_link": true
    },
    "kernelspec": {
      "name": "python3",
      "display_name": "Python 3"
    },
    "language_info": {
      "name": "python"
    }
  },
  "cells": [
    {
      "cell_type": "markdown",
      "metadata": {
        "id": "view-in-github",
        "colab_type": "text"
      },
      "source": [
        "<a href=\"https://colab.research.google.com/github/firmansubagjaa/artificial-intelligence-learning/blob/main/CSPs_Learning_by_doing_part_1.ipynb\" target=\"_parent\"><img src=\"https://colab.research.google.com/assets/colab-badge.svg\" alt=\"Open In Colab\"/></a>"
      ]
    },
    {
      "cell_type": "code",
      "execution_count": 2,
      "metadata": {
        "colab": {
          "base_uri": "https://localhost:8080/",
          "height": 0
        },
        "id": "z3MtsTwrRIVL",
        "outputId": "cd3e8bea-a1a8-43ec-c1b1-433d12016d0f"
      },
      "outputs": [
        {
          "output_type": "stream",
          "name": "stdout",
          "text": [
            "Requirement already satisfied: python-constraint in /usr/local/lib/python3.11/dist-packages (1.4.0)\n",
            "Jumlah solusi: 6\n",
            "Solusi 1: {'B': 'Hijau', 'C': 'Biru', 'A': 'Merah', 'D': 'Merah'}\n",
            "Solusi 2: {'B': 'Hijau', 'C': 'Merah', 'A': 'Biru', 'D': 'Biru'}\n",
            "Solusi 3: {'B': 'Biru', 'C': 'Hijau', 'A': 'Merah', 'D': 'Merah'}\n",
            "Solusi 4: {'B': 'Biru', 'C': 'Merah', 'A': 'Hijau', 'D': 'Hijau'}\n",
            "Solusi 5: {'B': 'Merah', 'C': 'Biru', 'A': 'Hijau', 'D': 'Hijau'}\n",
            "Solusi 6: {'B': 'Merah', 'C': 'Hijau', 'A': 'Biru', 'D': 'Biru'}\n"
          ]
        }
      ],
      "source": [
        "# Install Library\n",
        "!pip install python-constraint\n",
        "\n",
        "# Koding CSP untuk Graph Coloring\n",
        "from constraint import Problem\n",
        "\n",
        "# 1. Buat objek CSP\n",
        "problem = Problem()\n",
        "\n",
        "# 2. Definisikan variabel dan domainnya\n",
        "wilayah = [\"A\", \"B\", \"C\", \"D\"]\n",
        "warna = [\"Merah\", \"Biru\", \"Hijau\"]\n",
        "\n",
        "for w in wilayah:\n",
        "  problem.addVariable(w, warna)\n",
        "\n",
        "# 3. Tambahkan constraint: Wilayah yang bertetangga harus memiliki warna berbeda\n",
        "tetangga = [(\"A\", \"B\"),(\"A\", \"C\"),(\"B\", \"C\"),(\"B\", \"D\"),(\"C\", \"D\")]\n",
        "\n",
        "for (wil1, wil2) in tetangga:\n",
        "  problem.addConstraint(lambda w1, w2: w1 != w2, (wil1, wil2))\n",
        "\n",
        "# 4. Cari solusi\n",
        "solusi = problem.getSolutions()\n",
        "\n",
        "# 5. Tampilkan hasil\n",
        "print(f\"Jumlah solusi: {len(solusi)}\")\n",
        "for i, s in enumerate(solusi):\n",
        "  print(f\"Solusi {i+1}: {s}\")"
      ]
    },
    {
      "cell_type": "code",
      "source": [
        "buah = [\"Apel\", \"Jeruk\", \"Mangga\"]\n",
        "\n",
        "print(f\"Jumlah buah: {len(buah)}\")\n",
        "for index, item in enumerate(buah):\n",
        "  print(f\"Buah ke-{index+1}: {item}\")"
      ],
      "metadata": {
        "colab": {
          "base_uri": "https://localhost:8080/",
          "height": 0
        },
        "id": "zNFv2JWoa-H3",
        "outputId": "718410b5-5281-44d9-f216-154f409e05d7"
      },
      "execution_count": 5,
      "outputs": [
        {
          "output_type": "stream",
          "name": "stdout",
          "text": [
            "Jumlah buah: 3\n",
            "Buah ke-1: Apel\n",
            "Buah ke-2: Jeruk\n",
            "Buah ke-3: Mangga\n"
          ]
        }
      ]
    },
    {
      "cell_type": "markdown",
      "source": [
        "# **Python standard library**\n",
        "- `len(args..)` → menghitung berapa banyak elemen di dalam array (objek)\n",
        "- `enumerate()` → Memberi indeks otomatis saat looping\n",
        "- `tambah_lambda = lambda a + b: a + b` → membuat fungsi secara singkat tanpa nama"
      ],
      "metadata": {
        "id": "thc8QbEce5Gq"
      }
    },
    {
      "cell_type": "markdown",
      "source": [
        "# **Contoh CSP: Penjadwalan Kelas**\n",
        "Misalkan kita ingin menjadwalkan **tiga mata kuliah (`AI`, `ML`, `DPA`)** di **tiga ruang kelas (`R1`, `R2`, `R3`)**.\n",
        "\n",
        "⇒ **Aturan:**\n",
        "- **Setiap mata kuliah harus mendapatkan satu ruangan.**\n",
        "- **Tidak boleh ada dua mata kuliah di ruangan yang sama.**\n",
        "\n",
        "___\n",
        "\n",
        "## **Kode Implementasi dalam Python**\n"
      ],
      "metadata": {
        "id": "5ieZOu2NoGnG"
      }
    },
    {
      "cell_type": "code",
      "source": [
        "!pip install python-constraint\n",
        "\n",
        "from constraint import Problem\n",
        "\n",
        "# Membuat objek CSP\n",
        "problem = Problem()\n",
        "\n",
        "# Definisikan variable (mata kuliah) dan domain (ruang kelas)\n",
        "mata_kuliah = [\"AI\", \"ML\", \"DPA\"]\n",
        "ruangan_kelas = [\"R1\", \"R2\", \"R3\"]\n",
        "\n",
        "for mk in mata_kuliah:\n",
        "  problem.addVariable(mk, ruangan_kelas)\n",
        "\n",
        "# Tambahkan constraint: Setiap kelas harus unik untuk setiap mata kuliah\n",
        "problem.addConstraint(lambda r1, r2, r3: len({r1, r2, r3}) == 3, (\"AI\", \"ML\", \"DPA\"))\n",
        "\n",
        "# Cari solusi\n",
        "solusi = problem.getSolutions()\n",
        "\n",
        "# Tampilkan hasil\n",
        "print(f\"Jumlah solusi: {len(solusi)}\")\n",
        "for i, s in enumerate(solusi, start = 1):\n",
        "  print(f\"Solusi {i}: {s}\")"
      ],
      "metadata": {
        "colab": {
          "base_uri": "https://localhost:8080/",
          "height": 0
        },
        "id": "lZ0bo1BcoEKP",
        "outputId": "014a4dd7-fbb6-4c68-d9d2-e35074424853"
      },
      "execution_count": 12,
      "outputs": [
        {
          "output_type": "stream",
          "name": "stdout",
          "text": [
            "Requirement already satisfied: python-constraint in /usr/local/lib/python3.11/dist-packages (1.4.0)\n",
            "Jumlah solusi: 6\n",
            "Solusi 1: {'AI': 'R3', 'DPA': 'R2', 'ML': 'R1'}\n",
            "Solusi 2: {'AI': 'R3', 'DPA': 'R1', 'ML': 'R2'}\n",
            "Solusi 3: {'AI': 'R2', 'DPA': 'R3', 'ML': 'R1'}\n",
            "Solusi 4: {'AI': 'R2', 'DPA': 'R1', 'ML': 'R3'}\n",
            "Solusi 5: {'AI': 'R1', 'DPA': 'R3', 'ML': 'R2'}\n",
            "Solusi 6: {'AI': 'R1', 'DPA': 'R2', 'ML': 'R3'}\n"
          ]
        }
      ]
    },
    {
      "cell_type": "markdown",
      "source": [
        "# **Latihan: Menyusun Tim Proyek**\n",
        "\n",
        "Misalkan kita punya **3 proyek** (`P1`, `P2`, `P3`) dan **3 orang** (`Alice`, `Bob`, `Charlie`).\n",
        "\n",
        "⇒ **Aturan(Constraint)**\n",
        "- Setiap proyek harus memiliki **satu orang yang mengerjakannya**.\n",
        "- Satu orang **tidak boleh mengerjakan lebih dari satu proyek**\n",
        "\n",
        "___\n",
        "\n",
        "## **Coba Pikirkan Sebelum Melihat Kodenya**\n",
        "\n",
        "1. Variabel (Apa yang perlu dicari solusinya?)\n",
        "- `{P1, P2, P3}` **(Proyek yang butuh orang)**\n",
        "\n",
        "2. **Domain(Nilai apa yang bisa dipilih untuk variabel?)**\n",
        "- `{Alice, Bob, Charlie}` **(Orang yang bisa mengerjakan proyek)**\n",
        "\n",
        "3. **Constraint (Aturan yang harus dipenuhi?)**\n",
        "- Setiap proyek harus memiliki **satu orang**.\n",
        "- Setiap orang hanya boleh mengerjakan **satu proyek**."
      ],
      "metadata": {
        "id": "AiNcOXdavKDP"
      }
    },
    {
      "cell_type": "code",
      "source": [
        "!pip install python-constraint\n",
        "\n",
        "from constraint import Problem\n",
        "\n",
        "# Buat objek CSP\n",
        "problem = Problem()\n",
        "\n",
        "# Definisikan variabel (proyek) dan domain (orang)\n",
        "proyek = [\"P1\", \"P2\", \"P3\", \"P4\"]\n",
        "orang = [\"Alice\", \"Bob\", \"Charlie\"]\n",
        "\n",
        "for p in proyek:\n",
        "  problem.addVariable(p, orang)\n",
        "\n",
        "# Tambahkan constraint: Setiap orang hanya boleh mengerjakan satu proyek\n",
        "problem.addConstraint(lambda p1, p2, p3, p4: len({p1, p2, p3, p4}) == 4, (\"P1\", \"P2\", \"P3\", \"P4\"))\n",
        "\n",
        "# Cari solusi\n",
        "solusi = problem.getSolutions()\n",
        "\n",
        "# Tampilkan hasil\n",
        "print(f\"Jumlah solusi: {len(solusi)}\")\n",
        "for i, s in enumerate(solusi, start = 1):\n",
        "  print(f\"Solusi {i}: {s}\")"
      ],
      "metadata": {
        "colab": {
          "base_uri": "https://localhost:8080/",
          "height": 0
        },
        "id": "NLqEzrPCwI0A",
        "outputId": "0284702c-706e-492c-a57c-56068bcab4f1"
      },
      "execution_count": 18,
      "outputs": [
        {
          "output_type": "stream",
          "name": "stdout",
          "text": [
            "Requirement already satisfied: python-constraint in /usr/local/lib/python3.11/dist-packages (1.4.0)\n",
            "Jumlah solusi: 0\n"
          ]
        }
      ]
    }
  ]
}
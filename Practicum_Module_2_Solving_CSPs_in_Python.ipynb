{
  "nbformat": 4,
  "nbformat_minor": 0,
  "metadata": {
    "colab": {
      "provenance": [],
      "authorship_tag": "ABX9TyPcYYGfaopJIFDEFBbbFri4",
      "include_colab_link": true
    },
    "kernelspec": {
      "name": "python3",
      "display_name": "Python 3"
    },
    "language_info": {
      "name": "python"
    }
  },
  "cells": [
    {
      "cell_type": "markdown",
      "metadata": {
        "id": "view-in-github",
        "colab_type": "text"
      },
      "source": [
        "<a href=\"https://colab.research.google.com/github/firmansubagjaa/artificial-intelligence-learning/blob/main/Practicum_Module_2_Solving_CSPs_in_Python.ipynb\" target=\"_parent\"><img src=\"https://colab.research.google.com/assets/colab-badge.svg\" alt=\"Open In Colab\"/></a>"
      ]
    },
    {
      "cell_type": "markdown",
      "source": [
        "# Constraint Satisfaction Problems\n",
        "\n",
        "CSP adalah masalah di mana kita harus menemukan solusi dengan memenuhi serangkaian batasa (constraint). Contoh klasik adalah teka-teki seperti Sudoku atau penjadwalan\n",
        "\n",
        "\n",
        "##### **PSEUDOCODE**\n",
        "\n",
        "```pseudocode\n",
        "BEGIN\n",
        "  # Inisialisasi masalah CSP\n",
        "  CREATE problem CSP\n",
        "  # #Daftar wilayah yang akan diwarnai\n",
        "  wilayah = [\"A\", \"B\", \"C\", \"D\"]\n",
        "  # Domain warna yang sudah tersedia\n",
        "  warna = [\"Merah\", \"Biru\", \"Hijau\"]\n",
        "  # Tambahkan variabel dan domai ke dalam problem\n",
        "  FOR setiap w IN wilayah DO\n",
        "    ADD_VARIABLE(w,warna)\n",
        "  # Tetapkan constraint: Wilayah yang berdekatan tidak boleh memiliki warna yang sama\n",
        "  tetangga = [(\"A\", \"B\"),(\"A\", \"C\"),(\"B\", \"C\"),(\"B\", \"D\"),(\"C\", \"D\")]\n",
        "  FOR setiap (wil1, wil2) IN tetangga DO\n",
        "    ADD_CONSTRAINT(wil1, wil2, w1 != 12)\n",
        "  # Cari solusi dari CSP\n",
        "  solusi = GET_SOLUTION(problem)\n",
        "  # Cetak jumlah solusi dan detailnya\n",
        "  PRINT \"Ditemukan\" COUNT(solusi) \"solusi yang mungkin\"\n",
        "  FOR setiap s IN solusi DO\n",
        "    PRINT s\n",
        "END\n",
        "\n",
        "```\n",
        "\n",
        "##### **LANGKAH-LANGKAH IMPLEMENTASI DI PYTHON**\n",
        "- Gunakan pustaka constraint: Python memiliki pustaka python-constraint untuk memecahkan CSP dengan mudah.\n",
        "- Tentukan variabel: identifikasi variabel yang eprlu diberikan nilai.\n",
        "- Tentukan domain: Tentukan nilai yang mungkin untuk setiap variabel.\n",
        "- Tentukan constraint: TEtapkan batasan yang harus dipenuhi oleh solusi.\n",
        "- Gunakan solver untuk mencari solusi\n",
        "\n",
        "##### **KODE PYTHON**\n"
      ],
      "metadata": {
        "id": "XscqK7qtKWw1"
      }
    },
    {
      "cell_type": "code",
      "source": [
        "# Install library constraint jika belum ada\n",
        "!pip install python-constraint\n",
        "from constraint import Problem\n",
        "\n",
        "# Membuat objek masalah CSP\n",
        "problem = Problem()\n",
        "\n",
        "# Daftar wilayah yang akan diwarnai\n",
        "wilayah = [\"A\", \"B\", \"C\", \"D\"]\n",
        "\n",
        "# Tambahkan variabel dengan domain warna yang tersedia\n",
        "warna = [\"Merah\", \"Biru\", \"Hijau\"]\n",
        "for w in wilayah:\n",
        "  problem.addVariable(w, warna)\n",
        "\n",
        "# Tambahkan constraint (wilayah yang berdekatan tidak boleh memiliki warna yang sama)\n",
        "tetangga = [(\"A\", \"B\"),(\"A\", \"C\"),(\"B\", \"C\"),(\"B\", \"D\"),(\"C\", \"D\")]\n",
        "for (wil1, wil2) in tetangga:\n",
        "  problem.addConstraint(lambda w1, w2: w1 != w2, (wil1, wil2))\n",
        "\n",
        "# Cari solusi\n",
        "  solusi = problem.getSolution()\n",
        "\n",
        "# Cetak hasil solusi\n",
        "  print(f\"Ditemukan {len(solusi)} solusi yang mungkin:\")\n",
        "  for s in solusi:\n",
        "    print(s)"
      ],
      "metadata": {
        "colab": {
          "base_uri": "https://localhost:8080/"
        },
        "id": "FI38IFEQMmQk",
        "outputId": "27e61fd3-a759-47ad-f183-cf99ebf60686"
      },
      "execution_count": 1,
      "outputs": [
        {
          "output_type": "stream",
          "name": "stdout",
          "text": [
            "Collecting python-constraint\n",
            "  Downloading python-constraint-1.4.0.tar.bz2 (18 kB)\n",
            "  Preparing metadata (setup.py) ... \u001b[?25l\u001b[?25hdone\n",
            "Building wheels for collected packages: python-constraint\n",
            "  Building wheel for python-constraint (setup.py) ... \u001b[?25l\u001b[?25hdone\n",
            "  Created wheel for python-constraint: filename=python_constraint-1.4.0-py2.py3-none-any.whl size=24059 sha256=92c8af427de5f0bf25c84fc5d6286d364181daae65dac6b9197eaf3595326415\n",
            "  Stored in directory: /root/.cache/pip/wheels/1e/af/a9/990ae7e6a78319b7d7afaab2d14e7e5ae349d5613db5ae28fd\n",
            "Successfully built python-constraint\n",
            "Installing collected packages: python-constraint\n",
            "Successfully installed python-constraint-1.4.0\n",
            "Ditemukan 4 solusi yang mungkin:\n",
            "A\n",
            "B\n",
            "C\n",
            "D\n",
            "Ditemukan 4 solusi yang mungkin:\n",
            "A\n",
            "B\n",
            "C\n",
            "D\n",
            "Ditemukan 4 solusi yang mungkin:\n",
            "A\n",
            "B\n",
            "C\n",
            "D\n",
            "Ditemukan 4 solusi yang mungkin:\n",
            "B\n",
            "A\n",
            "C\n",
            "D\n",
            "Ditemukan 4 solusi yang mungkin:\n",
            "B\n",
            "C\n",
            "A\n",
            "D\n"
          ]
        }
      ]
    }
  ]
}